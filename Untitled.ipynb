{
 "cells": [
  {
   "cell_type": "code",
   "execution_count": null,
   "id": "27efa54e",
   "metadata": {},
   "outputs": [],
   "source": [
    "#creating a copy of our dataframe to use for our time series model, had some trouble with copy methods\n",
    "hey_batter_full = hey_batter\n",
    "\n",
    "#copy/pasting our data cleaning from before\n",
    "hey_batter_full['team'].replace({'SK Wyverns': 'SSG Landers', 'Sammi Superstars': 'Kiwoom Heroes', 'Chungbo Pintos': 'Kiwoom Heroes', 'Pacific Dolphins': 'Kiwoom Heroes','Hyundai Unicorns': 'Kiwoom Heroes', 'Woori Heroes': 'Kiwoom Heroes', 'Nexen Heroes': 'Kiwoom Heroes', 'MBC Blue Dragons': 'LG Twins', 'Binggre Eagles': 'Hanwha Eagles', 'OB Bears': 'Doosan Bears', 'Haitai Tigers': 'Kia Tigers'}, inplace=True)\n",
    "hey_batter_full = hey_batter_full[hey_batter_full['team'] != 'Ssangbangwool Raiders']\n",
    "\n",
    "\n",
    "#this definition will create a new column that will have the prediction for the next W/L ratio and shift all win ratios back\n",
    "def next_win_ratio(team): \n",
    "    team = team.sort_values('year')\n",
    "    team['next_W/L'] = team['win_loss_percentage'].shift(-1)\n",
    "    return team\n",
    "\n",
    "\n",
    "#applying our function to our dataset\n",
    "hey_batter_full = hey_batter_full.groupby('team', group_keys=False).apply(next_win_ratio)\n",
    "\n",
    "#dropping any NaN values\n",
    "#hey_batter_full = hey_batter_full.dropna()\n",
    "\n",
    "#checking dataset\n",
    "hey_batter_full\n",
    "\n",
    "hey_batter_full.loc[:, selected_columns] = scaler.fit_transform(hey_batter_full[selected_columns])\n",
    "\n",
    "def backtest(data, model, predictors, start=5, step=1):\n",
    "    woops = data.copy()\n",
    "    all_predictions = []\n",
    "    \n",
    "    years = sorted(data['year'].unique())\n",
    "    \n",
    "    for i in range(start, len(years), step): \n",
    "        current_year = years[i]\n",
    "        \n",
    "        train = data[data['year'] < current_year]\n",
    "        test = data[data['year'] == current_year]\n",
    "        \n",
    "        model.fit(train[predictors], train['next_W/L'])\n",
    "        \n",
    "        prediction = model.predict(test[predictors])\n",
    "        prediction = pd.Series(prediction, index=test.index)\n",
    "        combined = pd.concat([test['next_W/L'], prediction], axis=1)\n",
    "        combined.columns = ['actual', 'prediction']\n",
    "        \n",
    "        all_predictions.append(combined)\n",
    "    return pd.concat(all_predictions)\n",
    "\n",
    "hey_batter_full = hey_batter_full.groupby('team', group_keys=False).apply(team_history)\n",
    "\n",
    "hey_batter_full['W/L_season'] = hey_batter_full.groupby('year', group_keys=False).apply(team_averages)"
   ]
  },
  {
   "cell_type": "code",
   "execution_count": null,
   "id": "a12eb942",
   "metadata": {},
   "outputs": [],
   "source": [
    "only_samsung2 = hey_batter_full.loc[hey_batter_full.team == 'Samsung Lions']\n",
    "\n",
    "\n",
    "only_samsung = hey_batter_3.loc[hey_batter_3.team == 'Samsung Lions' , model.X_columns]"
   ]
  },
  {
   "cell_type": "code",
   "execution_count": null,
   "id": "c7e62ce3",
   "metadata": {},
   "outputs": [],
   "source": [
    "all_predictions = []\n",
    "\n",
    "years = sorted(hey_batter_full['year'].unique())\n",
    "\n",
    "for i in range(start=5, len(years), step=1): \n",
    "    current_year = years[i]\n",
    "    \n",
    "    train = hey_batter_full[hey_batter_full['year'] < current_year]\n",
    "    test = hey_batter_full[hey_batter_full['year'] == current_year]\n",
    "        \n",
    "    model.fit(train[predictors], train['next_W/L'])\n",
    "        \n",
    "    prediction = model.predict(test[new_predictors])\n",
    "    prediction = pd.Series(prediction, index=test.index)\n",
    "    combined = pd.concat([test['next_W/L'], prediction], axis=1)\n",
    "    combined.columns = ['actual', 'prediction']\n",
    "        \n",
    "    all_predictions.append(combined)"
   ]
  }
 ],
 "metadata": {
  "kernelspec": {
   "display_name": "Python 3 (ipykernel)",
   "language": "python",
   "name": "python3"
  },
  "language_info": {
   "codemirror_mode": {
    "name": "ipython",
    "version": 3
   },
   "file_extension": ".py",
   "mimetype": "text/x-python",
   "name": "python",
   "nbconvert_exporter": "python",
   "pygments_lexer": "ipython3",
   "version": "3.9.7"
  }
 },
 "nbformat": 4,
 "nbformat_minor": 5
}
